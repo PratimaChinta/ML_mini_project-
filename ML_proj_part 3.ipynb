{
  "cells": [
    {
      "cell_type": "code",
      "execution_count": 4,
      "metadata": {
        "colab": {
          "base_uri": "https://localhost:8080/",
          "height": 423
        },
        "id": "1wOu16dg4vvb",
        "outputId": "b6b24e08-3e00-4f27-a907-9306703989ea"
      },
      "outputs": [
        {
          "output_type": "execute_result",
          "data": {
            "text/plain": [
              "      deceptive             hotel  polarity       source  \\\n",
              "0      truthful            conrad  positive  TripAdvisor   \n",
              "1      truthful             hyatt  positive  TripAdvisor   \n",
              "2      truthful             hyatt  positive  TripAdvisor   \n",
              "3      truthful              omni  positive  TripAdvisor   \n",
              "4      truthful             hyatt  positive  TripAdvisor   \n",
              "...         ...               ...       ...          ...   \n",
              "1595  deceptive  intercontinental  negative        MTurk   \n",
              "1596  deceptive            amalfi  negative        MTurk   \n",
              "1597  deceptive  intercontinental  negative        MTurk   \n",
              "1598  deceptive            palmer  negative        MTurk   \n",
              "1599  deceptive            amalfi  negative        MTurk   \n",
              "\n",
              "                                                   text  \n",
              "0     We stayed for a one night getaway with family ...  \n",
              "1     Triple A rate with upgrade to view room was le...  \n",
              "2     This comes a little late as I'm finally catchi...  \n",
              "3     The Omni Chicago really delivers on all fronts...  \n",
              "4     I asked for a high floor away from the elevato...  \n",
              "...                                                 ...  \n",
              "1595  Problems started when I booked the InterContin...  \n",
              "1596  The Amalfi Hotel has a beautiful website and i...  \n",
              "1597  The Intercontinental Chicago Magnificent Mile ...  \n",
              "1598  The Palmer House Hilton, while it looks good i...  \n",
              "1599  As a former Chicagoan, I'm appalled at the Ama...  \n",
              "\n",
              "[1600 rows x 5 columns]"
            ],
            "text/html": [
              "\n",
              "  <div id=\"df-7ec31332-4c27-4ad5-969b-7aa1e994898a\" class=\"colab-df-container\">\n",
              "    <div>\n",
              "<style scoped>\n",
              "    .dataframe tbody tr th:only-of-type {\n",
              "        vertical-align: middle;\n",
              "    }\n",
              "\n",
              "    .dataframe tbody tr th {\n",
              "        vertical-align: top;\n",
              "    }\n",
              "\n",
              "    .dataframe thead th {\n",
              "        text-align: right;\n",
              "    }\n",
              "</style>\n",
              "<table border=\"1\" class=\"dataframe\">\n",
              "  <thead>\n",
              "    <tr style=\"text-align: right;\">\n",
              "      <th></th>\n",
              "      <th>deceptive</th>\n",
              "      <th>hotel</th>\n",
              "      <th>polarity</th>\n",
              "      <th>source</th>\n",
              "      <th>text</th>\n",
              "    </tr>\n",
              "  </thead>\n",
              "  <tbody>\n",
              "    <tr>\n",
              "      <th>0</th>\n",
              "      <td>truthful</td>\n",
              "      <td>conrad</td>\n",
              "      <td>positive</td>\n",
              "      <td>TripAdvisor</td>\n",
              "      <td>We stayed for a one night getaway with family ...</td>\n",
              "    </tr>\n",
              "    <tr>\n",
              "      <th>1</th>\n",
              "      <td>truthful</td>\n",
              "      <td>hyatt</td>\n",
              "      <td>positive</td>\n",
              "      <td>TripAdvisor</td>\n",
              "      <td>Triple A rate with upgrade to view room was le...</td>\n",
              "    </tr>\n",
              "    <tr>\n",
              "      <th>2</th>\n",
              "      <td>truthful</td>\n",
              "      <td>hyatt</td>\n",
              "      <td>positive</td>\n",
              "      <td>TripAdvisor</td>\n",
              "      <td>This comes a little late as I'm finally catchi...</td>\n",
              "    </tr>\n",
              "    <tr>\n",
              "      <th>3</th>\n",
              "      <td>truthful</td>\n",
              "      <td>omni</td>\n",
              "      <td>positive</td>\n",
              "      <td>TripAdvisor</td>\n",
              "      <td>The Omni Chicago really delivers on all fronts...</td>\n",
              "    </tr>\n",
              "    <tr>\n",
              "      <th>4</th>\n",
              "      <td>truthful</td>\n",
              "      <td>hyatt</td>\n",
              "      <td>positive</td>\n",
              "      <td>TripAdvisor</td>\n",
              "      <td>I asked for a high floor away from the elevato...</td>\n",
              "    </tr>\n",
              "    <tr>\n",
              "      <th>...</th>\n",
              "      <td>...</td>\n",
              "      <td>...</td>\n",
              "      <td>...</td>\n",
              "      <td>...</td>\n",
              "      <td>...</td>\n",
              "    </tr>\n",
              "    <tr>\n",
              "      <th>1595</th>\n",
              "      <td>deceptive</td>\n",
              "      <td>intercontinental</td>\n",
              "      <td>negative</td>\n",
              "      <td>MTurk</td>\n",
              "      <td>Problems started when I booked the InterContin...</td>\n",
              "    </tr>\n",
              "    <tr>\n",
              "      <th>1596</th>\n",
              "      <td>deceptive</td>\n",
              "      <td>amalfi</td>\n",
              "      <td>negative</td>\n",
              "      <td>MTurk</td>\n",
              "      <td>The Amalfi Hotel has a beautiful website and i...</td>\n",
              "    </tr>\n",
              "    <tr>\n",
              "      <th>1597</th>\n",
              "      <td>deceptive</td>\n",
              "      <td>intercontinental</td>\n",
              "      <td>negative</td>\n",
              "      <td>MTurk</td>\n",
              "      <td>The Intercontinental Chicago Magnificent Mile ...</td>\n",
              "    </tr>\n",
              "    <tr>\n",
              "      <th>1598</th>\n",
              "      <td>deceptive</td>\n",
              "      <td>palmer</td>\n",
              "      <td>negative</td>\n",
              "      <td>MTurk</td>\n",
              "      <td>The Palmer House Hilton, while it looks good i...</td>\n",
              "    </tr>\n",
              "    <tr>\n",
              "      <th>1599</th>\n",
              "      <td>deceptive</td>\n",
              "      <td>amalfi</td>\n",
              "      <td>negative</td>\n",
              "      <td>MTurk</td>\n",
              "      <td>As a former Chicagoan, I'm appalled at the Ama...</td>\n",
              "    </tr>\n",
              "  </tbody>\n",
              "</table>\n",
              "<p>1600 rows × 5 columns</p>\n",
              "</div>\n",
              "    <div class=\"colab-df-buttons\">\n",
              "\n",
              "  <div class=\"colab-df-container\">\n",
              "    <button class=\"colab-df-convert\" onclick=\"convertToInteractive('df-7ec31332-4c27-4ad5-969b-7aa1e994898a')\"\n",
              "            title=\"Convert this dataframe to an interactive table.\"\n",
              "            style=\"display:none;\">\n",
              "\n",
              "  <svg xmlns=\"http://www.w3.org/2000/svg\" height=\"24px\" viewBox=\"0 -960 960 960\">\n",
              "    <path d=\"M120-120v-720h720v720H120Zm60-500h600v-160H180v160Zm220 220h160v-160H400v160Zm0 220h160v-160H400v160ZM180-400h160v-160H180v160Zm440 0h160v-160H620v160ZM180-180h160v-160H180v160Zm440 0h160v-160H620v160Z\"/>\n",
              "  </svg>\n",
              "    </button>\n",
              "\n",
              "  <style>\n",
              "    .colab-df-container {\n",
              "      display:flex;\n",
              "      gap: 12px;\n",
              "    }\n",
              "\n",
              "    .colab-df-convert {\n",
              "      background-color: #E8F0FE;\n",
              "      border: none;\n",
              "      border-radius: 50%;\n",
              "      cursor: pointer;\n",
              "      display: none;\n",
              "      fill: #1967D2;\n",
              "      height: 32px;\n",
              "      padding: 0 0 0 0;\n",
              "      width: 32px;\n",
              "    }\n",
              "\n",
              "    .colab-df-convert:hover {\n",
              "      background-color: #E2EBFA;\n",
              "      box-shadow: 0px 1px 2px rgba(60, 64, 67, 0.3), 0px 1px 3px 1px rgba(60, 64, 67, 0.15);\n",
              "      fill: #174EA6;\n",
              "    }\n",
              "\n",
              "    .colab-df-buttons div {\n",
              "      margin-bottom: 4px;\n",
              "    }\n",
              "\n",
              "    [theme=dark] .colab-df-convert {\n",
              "      background-color: #3B4455;\n",
              "      fill: #D2E3FC;\n",
              "    }\n",
              "\n",
              "    [theme=dark] .colab-df-convert:hover {\n",
              "      background-color: #434B5C;\n",
              "      box-shadow: 0px 1px 3px 1px rgba(0, 0, 0, 0.15);\n",
              "      filter: drop-shadow(0px 1px 2px rgba(0, 0, 0, 0.3));\n",
              "      fill: #FFFFFF;\n",
              "    }\n",
              "  </style>\n",
              "\n",
              "    <script>\n",
              "      const buttonEl =\n",
              "        document.querySelector('#df-7ec31332-4c27-4ad5-969b-7aa1e994898a button.colab-df-convert');\n",
              "      buttonEl.style.display =\n",
              "        google.colab.kernel.accessAllowed ? 'block' : 'none';\n",
              "\n",
              "      async function convertToInteractive(key) {\n",
              "        const element = document.querySelector('#df-7ec31332-4c27-4ad5-969b-7aa1e994898a');\n",
              "        const dataTable =\n",
              "          await google.colab.kernel.invokeFunction('convertToInteractive',\n",
              "                                                    [key], {});\n",
              "        if (!dataTable) return;\n",
              "\n",
              "        const docLinkHtml = 'Like what you see? Visit the ' +\n",
              "          '<a target=\"_blank\" href=https://colab.research.google.com/notebooks/data_table.ipynb>data table notebook</a>'\n",
              "          + ' to learn more about interactive tables.';\n",
              "        element.innerHTML = '';\n",
              "        dataTable['output_type'] = 'display_data';\n",
              "        await google.colab.output.renderOutput(dataTable, element);\n",
              "        const docLink = document.createElement('div');\n",
              "        docLink.innerHTML = docLinkHtml;\n",
              "        element.appendChild(docLink);\n",
              "      }\n",
              "    </script>\n",
              "  </div>\n",
              "\n",
              "\n",
              "<div id=\"df-e689bfc3-832e-49bc-9c04-af66136abefb\">\n",
              "  <button class=\"colab-df-quickchart\" onclick=\"quickchart('df-e689bfc3-832e-49bc-9c04-af66136abefb')\"\n",
              "            title=\"Suggest charts\"\n",
              "            style=\"display:none;\">\n",
              "\n",
              "<svg xmlns=\"http://www.w3.org/2000/svg\" height=\"24px\"viewBox=\"0 0 24 24\"\n",
              "     width=\"24px\">\n",
              "    <g>\n",
              "        <path d=\"M19 3H5c-1.1 0-2 .9-2 2v14c0 1.1.9 2 2 2h14c1.1 0 2-.9 2-2V5c0-1.1-.9-2-2-2zM9 17H7v-7h2v7zm4 0h-2V7h2v10zm4 0h-2v-4h2v4z\"/>\n",
              "    </g>\n",
              "</svg>\n",
              "  </button>\n",
              "\n",
              "<style>\n",
              "  .colab-df-quickchart {\n",
              "      --bg-color: #E8F0FE;\n",
              "      --fill-color: #1967D2;\n",
              "      --hover-bg-color: #E2EBFA;\n",
              "      --hover-fill-color: #174EA6;\n",
              "      --disabled-fill-color: #AAA;\n",
              "      --disabled-bg-color: #DDD;\n",
              "  }\n",
              "\n",
              "  [theme=dark] .colab-df-quickchart {\n",
              "      --bg-color: #3B4455;\n",
              "      --fill-color: #D2E3FC;\n",
              "      --hover-bg-color: #434B5C;\n",
              "      --hover-fill-color: #FFFFFF;\n",
              "      --disabled-bg-color: #3B4455;\n",
              "      --disabled-fill-color: #666;\n",
              "  }\n",
              "\n",
              "  .colab-df-quickchart {\n",
              "    background-color: var(--bg-color);\n",
              "    border: none;\n",
              "    border-radius: 50%;\n",
              "    cursor: pointer;\n",
              "    display: none;\n",
              "    fill: var(--fill-color);\n",
              "    height: 32px;\n",
              "    padding: 0;\n",
              "    width: 32px;\n",
              "  }\n",
              "\n",
              "  .colab-df-quickchart:hover {\n",
              "    background-color: var(--hover-bg-color);\n",
              "    box-shadow: 0 1px 2px rgba(60, 64, 67, 0.3), 0 1px 3px 1px rgba(60, 64, 67, 0.15);\n",
              "    fill: var(--button-hover-fill-color);\n",
              "  }\n",
              "\n",
              "  .colab-df-quickchart-complete:disabled,\n",
              "  .colab-df-quickchart-complete:disabled:hover {\n",
              "    background-color: var(--disabled-bg-color);\n",
              "    fill: var(--disabled-fill-color);\n",
              "    box-shadow: none;\n",
              "  }\n",
              "\n",
              "  .colab-df-spinner {\n",
              "    border: 2px solid var(--fill-color);\n",
              "    border-color: transparent;\n",
              "    border-bottom-color: var(--fill-color);\n",
              "    animation:\n",
              "      spin 1s steps(1) infinite;\n",
              "  }\n",
              "\n",
              "  @keyframes spin {\n",
              "    0% {\n",
              "      border-color: transparent;\n",
              "      border-bottom-color: var(--fill-color);\n",
              "      border-left-color: var(--fill-color);\n",
              "    }\n",
              "    20% {\n",
              "      border-color: transparent;\n",
              "      border-left-color: var(--fill-color);\n",
              "      border-top-color: var(--fill-color);\n",
              "    }\n",
              "    30% {\n",
              "      border-color: transparent;\n",
              "      border-left-color: var(--fill-color);\n",
              "      border-top-color: var(--fill-color);\n",
              "      border-right-color: var(--fill-color);\n",
              "    }\n",
              "    40% {\n",
              "      border-color: transparent;\n",
              "      border-right-color: var(--fill-color);\n",
              "      border-top-color: var(--fill-color);\n",
              "    }\n",
              "    60% {\n",
              "      border-color: transparent;\n",
              "      border-right-color: var(--fill-color);\n",
              "    }\n",
              "    80% {\n",
              "      border-color: transparent;\n",
              "      border-right-color: var(--fill-color);\n",
              "      border-bottom-color: var(--fill-color);\n",
              "    }\n",
              "    90% {\n",
              "      border-color: transparent;\n",
              "      border-bottom-color: var(--fill-color);\n",
              "    }\n",
              "  }\n",
              "</style>\n",
              "\n",
              "  <script>\n",
              "    async function quickchart(key) {\n",
              "      const quickchartButtonEl =\n",
              "        document.querySelector('#' + key + ' button');\n",
              "      quickchartButtonEl.disabled = true;  // To prevent multiple clicks.\n",
              "      quickchartButtonEl.classList.add('colab-df-spinner');\n",
              "      try {\n",
              "        const charts = await google.colab.kernel.invokeFunction(\n",
              "            'suggestCharts', [key], {});\n",
              "      } catch (error) {\n",
              "        console.error('Error during call to suggestCharts:', error);\n",
              "      }\n",
              "      quickchartButtonEl.classList.remove('colab-df-spinner');\n",
              "      quickchartButtonEl.classList.add('colab-df-quickchart-complete');\n",
              "    }\n",
              "    (() => {\n",
              "      let quickchartButtonEl =\n",
              "        document.querySelector('#df-e689bfc3-832e-49bc-9c04-af66136abefb button');\n",
              "      quickchartButtonEl.style.display =\n",
              "        google.colab.kernel.accessAllowed ? 'block' : 'none';\n",
              "    })();\n",
              "  </script>\n",
              "</div>\n",
              "    </div>\n",
              "  </div>\n"
            ]
          },
          "metadata": {},
          "execution_count": 4
        }
      ],
      "source": [
        "\n",
        "import numpy as np # linear algebra\n",
        "import pandas as pd # data processing, CSV file I/O (e.g. pd.read_csv)\n",
        "import nltk\n",
        "from nltk.corpus import stopwords\n",
        "from nltk.tokenize import word_tokenize\n",
        "import random\n",
        "\n",
        "df=pd.read_csv('/content/drive/MyDrive/ml mini proj mtech/deceptive-opinion.csv')\n",
        "df"
      ]
    },
    {
      "cell_type": "code",
      "execution_count": 5,
      "metadata": {
        "id": "9b9qFFMZU-_l"
      },
      "outputs": [],
      "source": [
        "import nltk\n",
        "from nltk.stem import PorterStemmer\n",
        "from nltk.tokenize import sent_tokenize, word_tokenize\n",
        "import re\n",
        "import string\n",
        "def text_cleaning(text):\n",
        "    '''\n",
        "    Make text lowercase, remove text in square brackets,remove links,remove special characters\n",
        "    and remove words containing numbers.\n",
        "    '''\n",
        "    text = text.lower()\n",
        "    text = re.sub('\\[.*?\\]', '', text)\n",
        "    text = re.sub(\"\\\\W\",\" \",text) # remove special chars\n",
        "    text = re.sub('https?://\\S+|www\\.\\S+', '', text)\n",
        "    text = re.sub('<.*?>+', '', text)\n",
        "    text = re.sub('[%s]' % re.escape(string.punctuation), '', text)\n",
        "    text = re.sub('\\n', '', text)\n",
        "    text = re.sub('\\w*\\d\\w*', '', text)\n",
        "\n",
        "    return text\n",
        "df['text']=df['text'].apply(text_cleaning)"
      ]
    },
    {
      "cell_type": "code",
      "execution_count": 6,
      "metadata": {
        "colab": {
          "base_uri": "https://localhost:8080/",
          "height": 423
        },
        "id": "qWdXtd6DVAUT",
        "outputId": "1c17190b-c8e4-47ad-af75-5f9f004f26c2"
      },
      "outputs": [
        {
          "output_type": "execute_result",
          "data": {
            "text/plain": [
              "      deceptive  polarity       source  \\\n",
              "0      truthful  positive  TripAdvisor   \n",
              "1      truthful  positive  TripAdvisor   \n",
              "2      truthful  positive  TripAdvisor   \n",
              "3      truthful  positive  TripAdvisor   \n",
              "4      truthful  positive  TripAdvisor   \n",
              "...         ...       ...          ...   \n",
              "1595  deceptive  negative        MTurk   \n",
              "1596  deceptive  negative        MTurk   \n",
              "1597  deceptive  negative        MTurk   \n",
              "1598  deceptive  negative        MTurk   \n",
              "1599  deceptive  negative        MTurk   \n",
              "\n",
              "                                                   text  \n",
              "0     we stayed for a one night getaway with family ...  \n",
              "1     triple a rate with upgrade to view room was le...  \n",
              "2     this comes a little late as i m finally catchi...  \n",
              "3     the omni chicago really delivers on all fronts...  \n",
              "4     i asked for a high floor away from the elevato...  \n",
              "...                                                 ...  \n",
              "1595  problems started when i booked the intercontin...  \n",
              "1596  the amalfi hotel has a beautiful website and i...  \n",
              "1597  the intercontinental chicago magnificent mile ...  \n",
              "1598  the palmer house hilton  while it looks good i...  \n",
              "1599  as a former chicagoan  i m appalled at the ama...  \n",
              "\n",
              "[1600 rows x 4 columns]"
            ],
            "text/html": [
              "\n",
              "  <div id=\"df-13db6b37-6719-49bc-89b7-610e1f404e6f\" class=\"colab-df-container\">\n",
              "    <div>\n",
              "<style scoped>\n",
              "    .dataframe tbody tr th:only-of-type {\n",
              "        vertical-align: middle;\n",
              "    }\n",
              "\n",
              "    .dataframe tbody tr th {\n",
              "        vertical-align: top;\n",
              "    }\n",
              "\n",
              "    .dataframe thead th {\n",
              "        text-align: right;\n",
              "    }\n",
              "</style>\n",
              "<table border=\"1\" class=\"dataframe\">\n",
              "  <thead>\n",
              "    <tr style=\"text-align: right;\">\n",
              "      <th></th>\n",
              "      <th>deceptive</th>\n",
              "      <th>polarity</th>\n",
              "      <th>source</th>\n",
              "      <th>text</th>\n",
              "    </tr>\n",
              "  </thead>\n",
              "  <tbody>\n",
              "    <tr>\n",
              "      <th>0</th>\n",
              "      <td>truthful</td>\n",
              "      <td>positive</td>\n",
              "      <td>TripAdvisor</td>\n",
              "      <td>we stayed for a one night getaway with family ...</td>\n",
              "    </tr>\n",
              "    <tr>\n",
              "      <th>1</th>\n",
              "      <td>truthful</td>\n",
              "      <td>positive</td>\n",
              "      <td>TripAdvisor</td>\n",
              "      <td>triple a rate with upgrade to view room was le...</td>\n",
              "    </tr>\n",
              "    <tr>\n",
              "      <th>2</th>\n",
              "      <td>truthful</td>\n",
              "      <td>positive</td>\n",
              "      <td>TripAdvisor</td>\n",
              "      <td>this comes a little late as i m finally catchi...</td>\n",
              "    </tr>\n",
              "    <tr>\n",
              "      <th>3</th>\n",
              "      <td>truthful</td>\n",
              "      <td>positive</td>\n",
              "      <td>TripAdvisor</td>\n",
              "      <td>the omni chicago really delivers on all fronts...</td>\n",
              "    </tr>\n",
              "    <tr>\n",
              "      <th>4</th>\n",
              "      <td>truthful</td>\n",
              "      <td>positive</td>\n",
              "      <td>TripAdvisor</td>\n",
              "      <td>i asked for a high floor away from the elevato...</td>\n",
              "    </tr>\n",
              "    <tr>\n",
              "      <th>...</th>\n",
              "      <td>...</td>\n",
              "      <td>...</td>\n",
              "      <td>...</td>\n",
              "      <td>...</td>\n",
              "    </tr>\n",
              "    <tr>\n",
              "      <th>1595</th>\n",
              "      <td>deceptive</td>\n",
              "      <td>negative</td>\n",
              "      <td>MTurk</td>\n",
              "      <td>problems started when i booked the intercontin...</td>\n",
              "    </tr>\n",
              "    <tr>\n",
              "      <th>1596</th>\n",
              "      <td>deceptive</td>\n",
              "      <td>negative</td>\n",
              "      <td>MTurk</td>\n",
              "      <td>the amalfi hotel has a beautiful website and i...</td>\n",
              "    </tr>\n",
              "    <tr>\n",
              "      <th>1597</th>\n",
              "      <td>deceptive</td>\n",
              "      <td>negative</td>\n",
              "      <td>MTurk</td>\n",
              "      <td>the intercontinental chicago magnificent mile ...</td>\n",
              "    </tr>\n",
              "    <tr>\n",
              "      <th>1598</th>\n",
              "      <td>deceptive</td>\n",
              "      <td>negative</td>\n",
              "      <td>MTurk</td>\n",
              "      <td>the palmer house hilton  while it looks good i...</td>\n",
              "    </tr>\n",
              "    <tr>\n",
              "      <th>1599</th>\n",
              "      <td>deceptive</td>\n",
              "      <td>negative</td>\n",
              "      <td>MTurk</td>\n",
              "      <td>as a former chicagoan  i m appalled at the ama...</td>\n",
              "    </tr>\n",
              "  </tbody>\n",
              "</table>\n",
              "<p>1600 rows × 4 columns</p>\n",
              "</div>\n",
              "    <div class=\"colab-df-buttons\">\n",
              "\n",
              "  <div class=\"colab-df-container\">\n",
              "    <button class=\"colab-df-convert\" onclick=\"convertToInteractive('df-13db6b37-6719-49bc-89b7-610e1f404e6f')\"\n",
              "            title=\"Convert this dataframe to an interactive table.\"\n",
              "            style=\"display:none;\">\n",
              "\n",
              "  <svg xmlns=\"http://www.w3.org/2000/svg\" height=\"24px\" viewBox=\"0 -960 960 960\">\n",
              "    <path d=\"M120-120v-720h720v720H120Zm60-500h600v-160H180v160Zm220 220h160v-160H400v160Zm0 220h160v-160H400v160ZM180-400h160v-160H180v160Zm440 0h160v-160H620v160ZM180-180h160v-160H180v160Zm440 0h160v-160H620v160Z\"/>\n",
              "  </svg>\n",
              "    </button>\n",
              "\n",
              "  <style>\n",
              "    .colab-df-container {\n",
              "      display:flex;\n",
              "      gap: 12px;\n",
              "    }\n",
              "\n",
              "    .colab-df-convert {\n",
              "      background-color: #E8F0FE;\n",
              "      border: none;\n",
              "      border-radius: 50%;\n",
              "      cursor: pointer;\n",
              "      display: none;\n",
              "      fill: #1967D2;\n",
              "      height: 32px;\n",
              "      padding: 0 0 0 0;\n",
              "      width: 32px;\n",
              "    }\n",
              "\n",
              "    .colab-df-convert:hover {\n",
              "      background-color: #E2EBFA;\n",
              "      box-shadow: 0px 1px 2px rgba(60, 64, 67, 0.3), 0px 1px 3px 1px rgba(60, 64, 67, 0.15);\n",
              "      fill: #174EA6;\n",
              "    }\n",
              "\n",
              "    .colab-df-buttons div {\n",
              "      margin-bottom: 4px;\n",
              "    }\n",
              "\n",
              "    [theme=dark] .colab-df-convert {\n",
              "      background-color: #3B4455;\n",
              "      fill: #D2E3FC;\n",
              "    }\n",
              "\n",
              "    [theme=dark] .colab-df-convert:hover {\n",
              "      background-color: #434B5C;\n",
              "      box-shadow: 0px 1px 3px 1px rgba(0, 0, 0, 0.15);\n",
              "      filter: drop-shadow(0px 1px 2px rgba(0, 0, 0, 0.3));\n",
              "      fill: #FFFFFF;\n",
              "    }\n",
              "  </style>\n",
              "\n",
              "    <script>\n",
              "      const buttonEl =\n",
              "        document.querySelector('#df-13db6b37-6719-49bc-89b7-610e1f404e6f button.colab-df-convert');\n",
              "      buttonEl.style.display =\n",
              "        google.colab.kernel.accessAllowed ? 'block' : 'none';\n",
              "\n",
              "      async function convertToInteractive(key) {\n",
              "        const element = document.querySelector('#df-13db6b37-6719-49bc-89b7-610e1f404e6f');\n",
              "        const dataTable =\n",
              "          await google.colab.kernel.invokeFunction('convertToInteractive',\n",
              "                                                    [key], {});\n",
              "        if (!dataTable) return;\n",
              "\n",
              "        const docLinkHtml = 'Like what you see? Visit the ' +\n",
              "          '<a target=\"_blank\" href=https://colab.research.google.com/notebooks/data_table.ipynb>data table notebook</a>'\n",
              "          + ' to learn more about interactive tables.';\n",
              "        element.innerHTML = '';\n",
              "        dataTable['output_type'] = 'display_data';\n",
              "        await google.colab.output.renderOutput(dataTable, element);\n",
              "        const docLink = document.createElement('div');\n",
              "        docLink.innerHTML = docLinkHtml;\n",
              "        element.appendChild(docLink);\n",
              "      }\n",
              "    </script>\n",
              "  </div>\n",
              "\n",
              "\n",
              "<div id=\"df-a42df802-601c-4a61-9d57-5d0173bbcac8\">\n",
              "  <button class=\"colab-df-quickchart\" onclick=\"quickchart('df-a42df802-601c-4a61-9d57-5d0173bbcac8')\"\n",
              "            title=\"Suggest charts\"\n",
              "            style=\"display:none;\">\n",
              "\n",
              "<svg xmlns=\"http://www.w3.org/2000/svg\" height=\"24px\"viewBox=\"0 0 24 24\"\n",
              "     width=\"24px\">\n",
              "    <g>\n",
              "        <path d=\"M19 3H5c-1.1 0-2 .9-2 2v14c0 1.1.9 2 2 2h14c1.1 0 2-.9 2-2V5c0-1.1-.9-2-2-2zM9 17H7v-7h2v7zm4 0h-2V7h2v10zm4 0h-2v-4h2v4z\"/>\n",
              "    </g>\n",
              "</svg>\n",
              "  </button>\n",
              "\n",
              "<style>\n",
              "  .colab-df-quickchart {\n",
              "      --bg-color: #E8F0FE;\n",
              "      --fill-color: #1967D2;\n",
              "      --hover-bg-color: #E2EBFA;\n",
              "      --hover-fill-color: #174EA6;\n",
              "      --disabled-fill-color: #AAA;\n",
              "      --disabled-bg-color: #DDD;\n",
              "  }\n",
              "\n",
              "  [theme=dark] .colab-df-quickchart {\n",
              "      --bg-color: #3B4455;\n",
              "      --fill-color: #D2E3FC;\n",
              "      --hover-bg-color: #434B5C;\n",
              "      --hover-fill-color: #FFFFFF;\n",
              "      --disabled-bg-color: #3B4455;\n",
              "      --disabled-fill-color: #666;\n",
              "  }\n",
              "\n",
              "  .colab-df-quickchart {\n",
              "    background-color: var(--bg-color);\n",
              "    border: none;\n",
              "    border-radius: 50%;\n",
              "    cursor: pointer;\n",
              "    display: none;\n",
              "    fill: var(--fill-color);\n",
              "    height: 32px;\n",
              "    padding: 0;\n",
              "    width: 32px;\n",
              "  }\n",
              "\n",
              "  .colab-df-quickchart:hover {\n",
              "    background-color: var(--hover-bg-color);\n",
              "    box-shadow: 0 1px 2px rgba(60, 64, 67, 0.3), 0 1px 3px 1px rgba(60, 64, 67, 0.15);\n",
              "    fill: var(--button-hover-fill-color);\n",
              "  }\n",
              "\n",
              "  .colab-df-quickchart-complete:disabled,\n",
              "  .colab-df-quickchart-complete:disabled:hover {\n",
              "    background-color: var(--disabled-bg-color);\n",
              "    fill: var(--disabled-fill-color);\n",
              "    box-shadow: none;\n",
              "  }\n",
              "\n",
              "  .colab-df-spinner {\n",
              "    border: 2px solid var(--fill-color);\n",
              "    border-color: transparent;\n",
              "    border-bottom-color: var(--fill-color);\n",
              "    animation:\n",
              "      spin 1s steps(1) infinite;\n",
              "  }\n",
              "\n",
              "  @keyframes spin {\n",
              "    0% {\n",
              "      border-color: transparent;\n",
              "      border-bottom-color: var(--fill-color);\n",
              "      border-left-color: var(--fill-color);\n",
              "    }\n",
              "    20% {\n",
              "      border-color: transparent;\n",
              "      border-left-color: var(--fill-color);\n",
              "      border-top-color: var(--fill-color);\n",
              "    }\n",
              "    30% {\n",
              "      border-color: transparent;\n",
              "      border-left-color: var(--fill-color);\n",
              "      border-top-color: var(--fill-color);\n",
              "      border-right-color: var(--fill-color);\n",
              "    }\n",
              "    40% {\n",
              "      border-color: transparent;\n",
              "      border-right-color: var(--fill-color);\n",
              "      border-top-color: var(--fill-color);\n",
              "    }\n",
              "    60% {\n",
              "      border-color: transparent;\n",
              "      border-right-color: var(--fill-color);\n",
              "    }\n",
              "    80% {\n",
              "      border-color: transparent;\n",
              "      border-right-color: var(--fill-color);\n",
              "      border-bottom-color: var(--fill-color);\n",
              "    }\n",
              "    90% {\n",
              "      border-color: transparent;\n",
              "      border-bottom-color: var(--fill-color);\n",
              "    }\n",
              "  }\n",
              "</style>\n",
              "\n",
              "  <script>\n",
              "    async function quickchart(key) {\n",
              "      const quickchartButtonEl =\n",
              "        document.querySelector('#' + key + ' button');\n",
              "      quickchartButtonEl.disabled = true;  // To prevent multiple clicks.\n",
              "      quickchartButtonEl.classList.add('colab-df-spinner');\n",
              "      try {\n",
              "        const charts = await google.colab.kernel.invokeFunction(\n",
              "            'suggestCharts', [key], {});\n",
              "      } catch (error) {\n",
              "        console.error('Error during call to suggestCharts:', error);\n",
              "      }\n",
              "      quickchartButtonEl.classList.remove('colab-df-spinner');\n",
              "      quickchartButtonEl.classList.add('colab-df-quickchart-complete');\n",
              "    }\n",
              "    (() => {\n",
              "      let quickchartButtonEl =\n",
              "        document.querySelector('#df-a42df802-601c-4a61-9d57-5d0173bbcac8 button');\n",
              "      quickchartButtonEl.style.display =\n",
              "        google.colab.kernel.accessAllowed ? 'block' : 'none';\n",
              "    })();\n",
              "  </script>\n",
              "</div>\n",
              "    </div>\n",
              "  </div>\n"
            ]
          },
          "metadata": {},
          "execution_count": 6
        }
      ],
      "source": [
        "#drop the feature hotel\n",
        "df=df.drop(['hotel'],axis=1)\n",
        "df"
      ]
    },
    {
      "cell_type": "code",
      "execution_count": 15,
      "metadata": {
        "id": "Wu4O9E1QWKCe"
      },
      "outputs": [],
      "source": [
        "x=df['text']\n",
        "y=df['deceptive']"
      ]
    },
    {
      "cell_type": "code",
      "execution_count": 16,
      "metadata": {
        "id": "g0qboksvXDH6"
      },
      "outputs": [],
      "source": [
        "import numpy as np\n",
        "import pandas as pd\n",
        "from sklearn.model_selection import train_test_split\n",
        "from sklearn.feature_extraction.text import CountVectorizer\n",
        "from keras.models import Sequential\n",
        "from keras.layers import Dense, Embedding, Conv1D, MaxPooling1D, GlobalMaxPooling1D, Dropout, Flatten\n",
        "from keras.preprocessing.text import Tokenizer\n",
        "from keras.preprocessing.sequence import pad_sequences\n",
        "from keras.utils import to_categorical\n",
        "\n",
        "# Assuming you have a DataFrame df with 'text' column and 'deceptive' column indicating deceptive (1) or not (0)\n",
        "\n",
        "# Split the data into training and testing sets\n",
        "X_train, X_test, y_train, y_test = train_test_split(x, y, test_size=0.2, random_state=42)"
      ]
    },
    {
      "cell_type": "code",
      "execution_count": null,
      "metadata": {
        "colab": {
          "base_uri": "https://localhost:8080/"
        },
        "id": "7x_vj6p8iM_R",
        "outputId": "3fb2710b-308b-493d-d2fc-92eef68e2af6"
      },
      "outputs": [
        {
          "name": "stderr",
          "output_type": "stream",
          "text": [
            "/usr/local/lib/python3.10/dist-packages/sklearn/preprocessing/_encoders.py:868: FutureWarning: `sparse` was renamed to `sparse_output` in version 1.2 and will be removed in 1.4. `sparse_output` is ignored unless you leave `sparse` to its default value.\n",
            "  warnings.warn(\n"
          ]
        }
      ],
      "source": []
    },
    {
      "cell_type": "markdown",
      "metadata": {
        "id": "O0ibPH8KjM4e"
      },
      "source": [
        "AlexNet for text classification- not suitable so here is a custom cnn model"
      ]
    },
    {
      "cell_type": "code",
      "execution_count": 17,
      "metadata": {
        "id": "OlbUlMB4aE6R"
      },
      "outputs": [],
      "source": [
        "# Tokenize and pad sequences\n",
        "max_words = 10000  # Adjust based on your vocabulary size\n",
        "max_len = 100  # Adjust based on your maximum sequence length\n",
        "tokenizer = Tokenizer(num_words=max_words)\n",
        "tokenizer.fit_on_texts(X_train)\n",
        "X_train_seq = tokenizer.texts_to_sequences(X_train)\n",
        "X_test_seq = tokenizer.texts_to_sequences(X_test)\n",
        "X_train_padded = pad_sequences(X_train_seq, maxlen=max_len)\n",
        "X_test_padded = pad_sequences(X_test_seq, maxlen=max_len)"
      ]
    },
    {
      "cell_type": "code",
      "source": [
        "# Convert the padded sequences to a dense NumPy array\n",
        "X_train_padded_dense = np.array(X_train_padded)\n",
        "X_test_padded_dense = np.array(X_test_padded)"
      ],
      "metadata": {
        "id": "AMUY-1Yg2diA"
      },
      "execution_count": 19,
      "outputs": []
    },
    {
      "cell_type": "code",
      "execution_count": 11,
      "metadata": {
        "colab": {
          "base_uri": "https://localhost:8080/"
        },
        "id": "w8T-SLApijyM",
        "outputId": "ed3e0015-ea1b-46bb-ba14-95bcb9c046ed"
      },
      "outputs": [
        {
          "output_type": "stream",
          "name": "stderr",
          "text": [
            "/usr/local/lib/python3.10/dist-packages/sklearn/preprocessing/_encoders.py:868: FutureWarning: `sparse` was renamed to `sparse_output` in version 1.2 and will be removed in 1.4. `sparse_output` is ignored unless you leave `sparse` to its default value.\n",
            "  warnings.warn(\n"
          ]
        }
      ],
      "source": [
        "from sklearn.preprocessing import OneHotEncoder\n",
        "# Use OneHotEncoder for the 'label' column\n",
        "encoder = OneHotEncoder(sparse=False, drop='first')  # drop='first' to avoid dummy variable trap\n",
        "y_train_encoded = encoder.fit_transform(y_train.values.reshape(-1, 1))\n",
        "y_test_encoded = encoder.transform(y_test.values.reshape(-1, 1))"
      ]
    },
    {
      "cell_type": "code",
      "source": [
        "# Convert padded sequences back to text\n",
        "X_train_text = [' '.join(map(str, seq)) for seq in X_train_padded]\n",
        "X_test_text = [' '.join(map(str, seq)) for seq in X_test_padded]"
      ],
      "metadata": {
        "id": "5dJjIZQH3Gyj"
      },
      "execution_count": 22,
      "outputs": []
    },
    {
      "cell_type": "code",
      "execution_count": 23,
      "metadata": {
        "id": "b7XG5bjuiy9W"
      },
      "outputs": [],
      "source": [
        "from sklearn.feature_extraction.text import TfidfVectorizer\n",
        "\n",
        "count_vectorizer = TfidfVectorizer()\n",
        "\n",
        "# Transform the text data into one-hot encoded features\n",
        "X_train_tfidf = count_vectorizer.fit_transform(X_train_text)\n",
        "X_test_tfidf = count_vectorizer.transform(X_test_text)"
      ]
    },
    {
      "cell_type": "code",
      "execution_count": 26,
      "metadata": {
        "colab": {
          "base_uri": "https://localhost:8080/"
        },
        "id": "l9h-xfcUWOCp",
        "outputId": "91d8aa75-3d7a-4425-e1af-7d560e230975"
      },
      "outputs": [
        {
          "output_type": "stream",
          "name": "stdout",
          "text": [
            "Epoch 1/5\n",
            "32/32 [==============================] - 2s 38ms/step - loss: 0.6932 - accuracy: 0.5068 - val_loss: 0.6914 - val_accuracy: 0.5312\n",
            "Epoch 2/5\n",
            "32/32 [==============================] - 1s 34ms/step - loss: 0.6909 - accuracy: 0.5527 - val_loss: 0.6833 - val_accuracy: 0.6055\n",
            "Epoch 3/5\n",
            "32/32 [==============================] - 1s 35ms/step - loss: 0.5175 - accuracy: 0.7930 - val_loss: 0.5455 - val_accuracy: 0.7461\n",
            "Epoch 4/5\n",
            "32/32 [==============================] - 1s 34ms/step - loss: 0.1745 - accuracy: 0.9355 - val_loss: 0.6945 - val_accuracy: 0.7461\n",
            "Epoch 5/5\n",
            "32/32 [==============================] - 1s 24ms/step - loss: 0.0300 - accuracy: 0.9912 - val_loss: 0.8322 - val_accuracy: 0.7500\n",
            "10/10 [==============================] - 0s 7ms/step - loss: 0.6205 - accuracy: 0.8094\n",
            "Test Loss: 0.6204699277877808, Test Accuracy: 0.809374988079071\n"
          ]
        }
      ],
      "source": [
        "# Define the CNN model\n",
        "model = Sequential()\n",
        "model.add(Embedding(input_dim=max_words, output_dim=50, input_length=max_len))\n",
        "model.add(Conv1D(64, 3, activation='relu'))\n",
        "model.add(MaxPooling1D(2))\n",
        "model.add(Conv1D(128, 3, activation='relu'))\n",
        "model.add(MaxPooling1D(2))\n",
        "model.add(Conv1D(256, 3, activation='relu'))\n",
        "model.add(MaxPooling1D(2))\n",
        "model.add(Flatten())\n",
        "model.add(Dense(256, activation='relu'))\n",
        "model.add(Dropout(0.5))\n",
        "model.add(Dense(1, activation='sigmoid'))\n",
        "\n",
        "# Compile the model\n",
        "model.compile(optimizer='adam', loss='binary_crossentropy', metrics=['accuracy'])\n",
        "\n",
        "# Train the model\n",
        "history=model.fit(X_train_padded, y_train_encoded, epochs=5, batch_size=32, validation_split=0.2)\n",
        "\n",
        "# Evaluate the model on the test set\n",
        "loss, accuracy = model.evaluate(X_test_padded, y_test_encoded)\n",
        "print(f'Test Loss: {loss}, Test Accuracy: {accuracy}')\n"
      ]
    },
    {
      "cell_type": "code",
      "execution_count": null,
      "metadata": {
        "colab": {
          "base_uri": "https://localhost:8080/",
          "height": 627
        },
        "id": "J6JQ7ZF9jOp9",
        "outputId": "04a6dfc6-2f2f-4564-e7ab-e0a545acc2cf"
      },
      "outputs": [
        {
          "data": {
            "image/png": "[encoded data removed]",
            "text/plain": [
              "<Figure size 1200x600 with 2 Axes>"
            ]
          },
          "metadata": {},
          "output_type": "display_data"
        }
      ],
      "source": [
        "#Plot training and validation accuracy\n",
        "import matplotlib.pyplot as plt\n",
        "plt.figure(figsize=(12, 6))\n",
        "\n",
        "# Plot training & validation accuracy values\n",
        "plt.subplot(1, 2, 1)\n",
        "plt.plot(history.history['accuracy'])\n",
        "plt.plot(history.history['val_accuracy'])\n",
        "plt.title('Model Accuracy')\n",
        "plt.xlabel('Epoch')\n",
        "plt.ylabel('Accuracy')\n",
        "plt.legend(['Train', 'Validation'], loc='upper left')\n",
        "\n",
        "# Plot training & validation loss values\n",
        "plt.subplot(1, 2, 2)\n",
        "plt.plot(history.history['loss'])\n",
        "plt.plot(history.history['val_loss'])\n",
        "plt.title('Model Loss')\n",
        "plt.xlabel('Epoch')\n",
        "plt.ylabel('Loss')\n",
        "plt.legend(['Train', 'Validation'], loc='upper left')\n",
        "\n",
        "plt.tight_layout()\n",
        "plt.show()"
      ]
    },
    {
      "cell_type": "markdown",
      "metadata": {
        "id": "MVlvR88vkWYn"
      },
      "source": [
        "RNN- LSTM without hyperparameter"
      ]
    },
    {
      "cell_type": "code",
      "execution_count": 27,
      "metadata": {
        "colab": {
          "base_uri": "https://localhost:8080/"
        },
        "id": "PcXol8h5kTID",
        "outputId": "b463597f-f56f-4498-bae8-caa1cc3d835f"
      },
      "outputs": [
        {
          "output_type": "stream",
          "name": "stdout",
          "text": [
            "Epoch 1/5\n",
            "32/32 [==============================] - 5s 80ms/step - loss: 0.6901 - accuracy: 0.5459 - val_loss: 0.6835 - val_accuracy: 0.5664\n",
            "Epoch 2/5\n",
            "32/32 [==============================] - 2s 63ms/step - loss: 0.5259 - accuracy: 0.7539 - val_loss: 0.6351 - val_accuracy: 0.6992\n",
            "Epoch 3/5\n",
            "32/32 [==============================] - 2s 76ms/step - loss: 0.2295 - accuracy: 0.9141 - val_loss: 0.6311 - val_accuracy: 0.7109\n",
            "Epoch 4/5\n",
            "32/32 [==============================] - 3s 90ms/step - loss: 0.0796 - accuracy: 0.9766 - val_loss: 0.9717 - val_accuracy: 0.6562\n",
            "Epoch 5/5\n",
            "32/32 [==============================] - 2s 65ms/step - loss: 0.0474 - accuracy: 0.9873 - val_loss: 0.9129 - val_accuracy: 0.7500\n",
            "10/10 [==============================] - 0s 23ms/step - loss: 0.8101 - accuracy: 0.7781\n",
            "Test Loss: 0.8101421594619751, Test Accuracy: 0.778124988079071\n"
          ]
        }
      ],
      "source": [
        "import numpy as np\n",
        "import pandas as pd\n",
        "from sklearn.model_selection import train_test_split\n",
        "from keras.models import Sequential\n",
        "from keras.layers import Embedding, LSTM, Dense\n",
        "from keras.preprocessing.text import Tokenizer\n",
        "from keras.preprocessing.sequence import pad_sequences\n",
        "\n",
        "\n",
        "# Define the RNN model\n",
        "model = Sequential()\n",
        "model.add(Embedding(input_dim=max_words, output_dim=50, input_length=max_len))\n",
        "model.add(LSTM(64, return_sequences=True))\n",
        "model.add(LSTM(64))\n",
        "model.add(Dense(1, activation='sigmoid'))\n",
        "\n",
        "# Compile the model\n",
        "model.compile(optimizer='adam', loss='binary_crossentropy', metrics=['accuracy'])\n",
        "\n",
        "# Train the model\n",
        "history_2=model.fit(X_train_padded, y_train_encoded, epochs=5, batch_size=32, validation_split=0.2)\n",
        "\n",
        "# Evaluate the model on the test set\n",
        "loss, accuracy = model.evaluate(X_test_padded, y_test_encoded)\n",
        "print(f'Test Loss: {loss}, Test Accuracy: {accuracy}')\n"
      ]
    },
    {
      "cell_type": "code",
      "execution_count": null,
      "metadata": {
        "colab": {
          "base_uri": "https://localhost:8080/",
          "height": 627
        },
        "id": "FlTQBuI-k_fx",
        "outputId": "97bff8a9-3d83-41cf-b5c7-945874d29122"
      },
      "outputs": [
        {
          "data": {
            "image/png": "[encoded data removed]",
            "text/plain": [
              "<Figure size 1200x600 with 2 Axes>"
            ]
          },
          "metadata": {},
          "output_type": "display_data"
        }
      ],
      "source": [
        "plt.figure(figsize=(12, 6))\n",
        "\n",
        "# Plot training & validation accuracy values\n",
        "plt.subplot(1, 2, 1)\n",
        "plt.plot(history_2.history['accuracy'])\n",
        "plt.plot(history_2.history['val_accuracy'])\n",
        "plt.title('Model Accuracy')\n",
        "plt.xlabel('Epoch')\n",
        "plt.ylabel('Accuracy')\n",
        "plt.legend(['Train', 'Validation'], loc='upper left')\n",
        "\n",
        "# Plot training & validation loss values\n",
        "plt.subplot(1, 2, 2)\n",
        "plt.plot(history_2.history['loss'])\n",
        "plt.plot(history_2.history['val_loss'])\n",
        "plt.title('Model Loss')\n",
        "plt.xlabel('Epoch')\n",
        "plt.ylabel('Loss')\n",
        "plt.legend(['Train', 'Validation'], loc='upper left')\n",
        "\n",
        "plt.tight_layout()\n",
        "plt.show()"
      ]
    },
    {
      "cell_type": "code",
      "execution_count": null,
      "metadata": {
        "colab": {
          "base_uri": "https://localhost:8080/"
        },
        "id": "ke32A7Zco6Ew",
        "outputId": "7f127ead-844e-43b9-db77-0f194b31c7e6"
      },
      "outputs": [
        {
          "name": "stdout",
          "output_type": "stream",
          "text": [
            "10/10 [==============================] - 1s 30ms/step\n"
          ]
        }
      ],
      "source": [
        "# Evaluate the model on the test set\n",
        "y_pred = history_2.model.predict(X_test_padded)\n",
        "y_pred_classes = np.argmax(y_pred, axis=1)"
      ]
    },
    {
      "cell_type": "code",
      "execution_count": null,
      "metadata": {
        "colab": {
          "base_uri": "https://localhost:8080/"
        },
        "id": "hPPK2WrYowLU",
        "outputId": "bab29197-75de-4c89-fab3-a49e5f5ddf5b"
      },
      "outputs": [
        {
          "name": "stdout",
          "output_type": "stream",
          "text": [
            "Classification Report:\n",
            "               precision    recall  f1-score   support\n",
            "\n",
            "   deceptive       0.47      1.00      0.64       152\n",
            "    truthful       0.00      0.00      0.00       168\n",
            "\n",
            "    accuracy                           0.48       320\n",
            "   macro avg       0.24      0.50      0.32       320\n",
            "weighted avg       0.23      0.47      0.31       320\n",
            "\n"
          ]
        },
        {
          "name": "stderr",
          "output_type": "stream",
          "text": [
            "/usr/local/lib/python3.10/dist-packages/sklearn/metrics/_classification.py:1344: UndefinedMetricWarning: Precision and F-score are ill-defined and being set to 0.0 in labels with no predicted samples. Use `zero_division` parameter to control this behavior.\n",
            "  _warn_prf(average, modifier, msg_start, len(result))\n",
            "/usr/local/lib/python3.10/dist-packages/sklearn/metrics/_classification.py:1344: UndefinedMetricWarning: Precision and F-score are ill-defined and being set to 0.0 in labels with no predicted samples. Use `zero_division` parameter to control this behavior.\n",
            "  _warn_prf(average, modifier, msg_start, len(result))\n",
            "/usr/local/lib/python3.10/dist-packages/sklearn/metrics/_classification.py:1344: UndefinedMetricWarning: Precision and F-score are ill-defined and being set to 0.0 in labels with no predicted samples. Use `zero_division` parameter to control this behavior.\n",
            "  _warn_prf(average, modifier, msg_start, len(result))\n"
          ]
        }
      ],
      "source": [
        "# Calculate and print precision, recall, and f1-score\n",
        "from sklearn.metrics import accuracy_score, classification_report, confusion_matrix\n",
        "classification_rep = classification_report(y_test_encoded, y_pred_classes, target_names=['deceptive', 'truthful'])\n",
        "print('Classification Report:\\n', classification_rep)"
      ]
    },
    {
      "cell_type": "markdown",
      "source": [
        "lstm - hyperparameters"
      ],
      "metadata": {
        "id": "XPpQ6GlS6KZM"
      }
    },
    {
      "cell_type": "code",
      "source": [
        "lstm_units = 100\n",
        "epochs_new = 10\n",
        "#same only batch_size = 32\n",
        "learning_rate = 0.001"
      ],
      "metadata": {
        "id": "CoLFVoMQ4qqL"
      },
      "execution_count": 28,
      "outputs": []
    },
    {
      "cell_type": "code",
      "source": [
        "# Define the RNN model\n",
        "model_2= Sequential()\n",
        "model_2.add(Embedding(input_dim=max_words, output_dim=50, input_length=max_len))\n",
        "model_2.add(LSTM(lstm_units, return_sequences=True))\n",
        "model_2.add(LSTM(lstm_units))\n",
        "model_2.add(Dense(1, activation='sigmoid'))"
      ],
      "metadata": {
        "id": "NurxYplC4xPu"
      },
      "execution_count": 29,
      "outputs": []
    },
    {
      "cell_type": "code",
      "source": [
        "import tensorflow"
      ],
      "metadata": {
        "id": "cqHGorwl5dLm"
      },
      "execution_count": 31,
      "outputs": []
    },
    {
      "cell_type": "code",
      "source": [
        "# Compile the model\n",
        "model_2.compile(loss='binary_crossentropy', optimizer=tensorflow.keras.optimizers.Adam(learning_rate=learning_rate), metrics=['accuracy'])\n",
        "\n",
        "# Train the model\n",
        "history_rnn2=model_2.fit(X_train_padded, y_train_encoded, epochs=epochs_new, batch_size=32, validation_split=0.2)\n",
        "\n",
        "# Evaluate the model on the test set\n",
        "loss_1, accuracy_1 = model_2.evaluate(X_test_padded, y_test_encoded)\n",
        "print(f'Test Loss: {loss_1}, Test Accuracy: {accuracy_1}')"
      ],
      "metadata": {
        "colab": {
          "base_uri": "https://localhost:8080/"
        },
        "id": "Dl0jrZbA4hKH",
        "outputId": "06862425-8919-4fb2-bf51-5267da79a950"
      },
      "execution_count": 32,
      "outputs": [
        {
          "output_type": "stream",
          "name": "stdout",
          "text": [
            "Epoch 1/10\n",
            "32/32 [==============================] - 5s 104ms/step - loss: 0.6585 - accuracy: 0.5967 - val_loss: 0.6258 - val_accuracy: 0.6680\n",
            "Epoch 2/10\n",
            "32/32 [==============================] - 4s 115ms/step - loss: 0.4149 - accuracy: 0.8320 - val_loss: 0.6525 - val_accuracy: 0.6641\n",
            "Epoch 3/10\n",
            "32/32 [==============================] - 3s 96ms/step - loss: 0.1644 - accuracy: 0.9453 - val_loss: 0.7936 - val_accuracy: 0.7227\n",
            "Epoch 4/10\n",
            "32/32 [==============================] - 3s 89ms/step - loss: 0.0837 - accuracy: 0.9756 - val_loss: 0.6661 - val_accuracy: 0.6914\n",
            "Epoch 5/10\n",
            "32/32 [==============================] - 3s 88ms/step - loss: 0.0517 - accuracy: 0.9883 - val_loss: 1.0496 - val_accuracy: 0.7383\n",
            "Epoch 6/10\n",
            "32/32 [==============================] - 3s 95ms/step - loss: 0.0117 - accuracy: 0.9980 - val_loss: 1.2910 - val_accuracy: 0.7461\n",
            "Epoch 7/10\n",
            "32/32 [==============================] - 4s 119ms/step - loss: 0.0089 - accuracy: 0.9990 - val_loss: 1.2460 - val_accuracy: 0.7500\n",
            "Epoch 8/10\n",
            "32/32 [==============================] - 3s 88ms/step - loss: 0.0013 - accuracy: 1.0000 - val_loss: 1.3155 - val_accuracy: 0.7383\n",
            "Epoch 9/10\n",
            "32/32 [==============================] - 3s 88ms/step - loss: 7.5092e-04 - accuracy: 1.0000 - val_loss: 1.4617 - val_accuracy: 0.7422\n",
            "Epoch 10/10\n",
            "32/32 [==============================] - 3s 89ms/step - loss: 4.0613e-04 - accuracy: 1.0000 - val_loss: 1.5429 - val_accuracy: 0.7461\n",
            "10/10 [==============================] - 0s 27ms/step - loss: 1.1641 - accuracy: 0.7906\n",
            "Test Loss: 1.1640903949737549, Test Accuracy: 0.7906249761581421\n"
          ]
        }
      ]
    },
    {
      "cell_type": "code",
      "source": [
        "import matplotlib.pyplot as plt"
      ],
      "metadata": {
        "id": "33V5HJLl5It4"
      },
      "execution_count": 34,
      "outputs": []
    },
    {
      "cell_type": "code",
      "source": [
        "plt.figure(figsize=(12, 6))\n",
        "\n",
        "# Plot training & validation accuracy values\n",
        "plt.subplot(1, 2, 1)\n",
        "plt.plot(history_rnn2.history['accuracy'])\n",
        "plt.plot(history_rnn2.history['val_accuracy'])\n",
        "plt.title('Model Accuracy')\n",
        "plt.xlabel('Epoch')\n",
        "plt.ylabel('Accuracy')\n",
        "plt.legend(['Train', 'Validation'], loc='upper left')\n",
        "\n",
        "# Plot training & validation loss values\n",
        "plt.subplot(1, 2, 2)\n",
        "plt.plot(history_rnn2.history['loss'])\n",
        "plt.plot(history_rnn2.history['val_loss'])\n",
        "plt.title('Model Loss')\n",
        "plt.xlabel('Epoch')\n",
        "plt.ylabel('Loss')\n",
        "plt.legend(['Train', 'Validation'], loc='upper left')\n",
        "\n",
        "plt.tight_layout()\n",
        "plt.show()"
      ],
      "metadata": {
        "colab": {
          "base_uri": "https://localhost:8080/",
          "height": 607
        },
        "id": "XZvF5Q8x1bpy",
        "outputId": "7f4cbd90-dbb7-43f4-92fe-a8c58eff684e"
      },
      "execution_count": 35,
      "outputs": [
        {
          "output_type": "display_data",
          "data": {
            "text/plain": [
              "<Figure size 1200x600 with 2 Axes>"
            ],
            "image/png": "[encoded data removed]"
          },
          "metadata": {}
        }
      ]
    },
    {
      "cell_type": "markdown",
      "metadata": {
        "id": "fLdLf6M_nbMV"
      },
      "source": [
        "LSTM with hyperparameter tuning"
      ]
    },
    {
      "cell_type": "code",
      "execution_count": null,
      "metadata": {
        "colab": {
          "base_uri": "https://localhost:8080/"
        },
        "id": "un3UJAVZp2YR",
        "outputId": "f2fa7cfd-f518-4150-ecea-065ed3f288a1"
      },
      "outputs": [
        {
          "name": "stdout",
          "output_type": "stream",
          "text": [
            "Collecting scikeras\n",
            "  Downloading scikeras-0.12.0-py3-none-any.whl (27 kB)\n",
            "Requirement already satisfied: packaging>=0.21 in /usr/local/lib/python3.10/dist-packages (from scikeras) (23.2)\n",
            "Requirement already satisfied: scikit-learn>=1.0.0 in /usr/local/lib/python3.10/dist-packages (from scikeras) (1.2.2)\n",
            "Requirement already satisfied: numpy>=1.17.3 in /usr/local/lib/python3.10/dist-packages (from scikit-learn>=1.0.0->scikeras) (1.23.5)\n",
            "Requirement already satisfied: scipy>=1.3.2 in /usr/local/lib/python3.10/dist-packages (from scikit-learn>=1.0.0->scikeras) (1.11.4)\n",
            "Requirement already satisfied: joblib>=1.1.1 in /usr/local/lib/python3.10/dist-packages (from scikit-learn>=1.0.0->scikeras) (1.3.2)\n",
            "Requirement already satisfied: threadpoolctl>=2.0.0 in /usr/local/lib/python3.10/dist-packages (from scikit-learn>=1.0.0->scikeras) (3.2.0)\n",
            "Installing collected packages: scikeras\n",
            "Successfully installed scikeras-0.12.0\n"
          ]
        }
      ],
      "source": [
        "pip install scikeras"
      ]
    },
    {
      "cell_type": "code",
      "execution_count": null,
      "metadata": {
        "id": "nEz94bsRnaNC"
      },
      "outputs": [],
      "source": [
        "from scikeras.wrappers import KerasClassifier"
      ]
    },
    {
      "cell_type": "code",
      "execution_count": null,
      "metadata": {
        "id": "6QPpJsUOulG6"
      },
      "outputs": [],
      "source": [
        "# Tokenize and pad sequences\n",
        "max_words = 10000  # Adjust based on your vocabulary size\n",
        "max_len = 100  # Adjust based on your maximum sequence length\n",
        "tokenizer = Tokenizer(num_words=max_words)\n",
        "tokenizer.fit_on_texts(X_train)\n",
        "X_train_seq = tokenizer.texts_to_sequences(X_train)\n",
        "X_test_seq = tokenizer.texts_to_sequences(X_test)\n",
        "X_train_padded = pad_sequences(X_train_seq, maxlen=max_len)\n",
        "X_test_padded = pad_sequences(X_test_seq, maxlen=max_len)"
      ]
    },
    {
      "cell_type": "code",
      "execution_count": null,
      "metadata": {
        "colab": {
          "base_uri": "https://localhost:8080/"
        },
        "id": "cxyDKhjMuquk",
        "outputId": "52425890-132f-49d3-c49f-fc6f9fba7dbd"
      },
      "outputs": [
        {
          "output_type": "execute_result",
          "data": {
            "text/plain": [
              "(1280, 100)"
            ]
          },
          "metadata": {},
          "execution_count": 69
        }
      ],
      "source": [
        "X_train_padded.shape"
      ]
    },
    {
      "cell_type": "code",
      "execution_count": null,
      "metadata": {
        "colab": {
          "base_uri": "https://localhost:8080/"
        },
        "id": "aDIE3ZIEut92",
        "outputId": "79ef12e4-daae-4943-a0f4-8c3da0b61245"
      },
      "outputs": [
        {
          "output_type": "execute_result",
          "data": {
            "text/plain": [
              "(320, 100)"
            ]
          },
          "metadata": {},
          "execution_count": 70
        }
      ],
      "source": [
        "X_test_padded.shape"
      ]
    },
    {
      "cell_type": "code",
      "execution_count": null,
      "metadata": {
        "id": "WZrlMY25vGq3"
      },
      "outputs": [],
      "source": [
        "from sklearn.feature_extraction.text import TfidfVectorizer\n",
        "\n",
        "# Assuming X is your raw text data\n",
        "vectorizer = TfidfVectorizer(max_features=5000)  # Adjust parameters as needed\n",
        "X_tfidf = vectorizer.fit_transform(x)\n"
      ]
    },
    {
      "cell_type": "code",
      "execution_count": null,
      "metadata": {
        "id": "Re-Vr-AVvDlA"
      },
      "outputs": [],
      "source": [
        "# Split the data into training and testing sets\n",
        "X_train_combined, X_test_combined, y_train, y_test = train_test_split(X_tfidf, y, test_size=0.2, random_state=42)\n"
      ]
    },
    {
      "cell_type": "code",
      "execution_count": null,
      "metadata": {
        "id": "SgMtxc-4v22Y",
        "colab": {
          "base_uri": "https://localhost:8080/"
        },
        "outputId": "495b9f73-228f-40ad-99dd-cd74e9615d64"
      },
      "outputs": [
        {
          "output_type": "stream",
          "name": "stderr",
          "text": [
            "/usr/local/lib/python3.10/dist-packages/sklearn/preprocessing/_encoders.py:868: FutureWarning: `sparse` was renamed to `sparse_output` in version 1.2 and will be removed in 1.4. `sparse_output` is ignored unless you leave `sparse` to its default value.\n",
            "  warnings.warn(\n"
          ]
        }
      ],
      "source": [
        "\n",
        "# Use OneHotEncoder for the 'label' column\n",
        "encoder = OneHotEncoder(sparse=False, drop='first')  # drop='first' to avoid dummy variable trap\n",
        "y_train_encoded = encoder.fit_transform(y_train.values.reshape(-1, 1))\n",
        "y_test_encoded = encoder.transform(y_test.values.reshape(-1, 1))"
      ]
    },
    {
      "cell_type": "code",
      "execution_count": null,
      "metadata": {
        "id": "lOmoRtjnu_I7"
      },
      "outputs": [],
      "source": [
        "# Concatenate TF-IDF features with tokenized/padded sequences\n",
        "from scipy.sparse import hstack\n",
        "\n",
        "X_train_combined_h = hstack([X_train_combined, X_train_padded])\n",
        "X_test_combined_h = hstack([X_test_combined, X_test_padded])"
      ]
    },
    {
      "cell_type": "markdown",
      "source": [],
      "metadata": {
        "id": "k877bXv91IjS"
      }
    },
    {
      "cell_type": "code",
      "source": [],
      "metadata": {
        "id": "u333IQXV1JAw"
      },
      "execution_count": null,
      "outputs": []
    },
    {
      "cell_type": "code",
      "execution_count": null,
      "metadata": {
        "id": "LJTt2gyIrpDd"
      },
      "outputs": [],
      "source": [
        "from keras.layers import Dropout\n",
        "\n",
        "# Define the global dropout rate\n",
        "global_dropout_rate = 0.5\n",
        "\n",
        "def create_lstm_model(units=64):\n",
        "    model = Sequential()\n",
        "    model.add(Embedding(input_dim=X_train_combined_h.shape[1], output_dim=50, input_length=X_train_combined_h.shape[1]))\n",
        "    model.add(LSTM(units, return_sequences=True, dropout=global_dropout_rate))\n",
        "    model.add(LSTM(units, dropout=global_dropout_rate))\n",
        "    model.add(Dense(1, activation='sigmoid'))\n",
        "    model.compile(optimizer='adam', loss='binary_crossentropy', metrics=['accuracy'])\n",
        "    return model\n",
        "\n"
      ]
    },
    {
      "cell_type": "code",
      "execution_count": null,
      "metadata": {
        "id": "C0GcU6jbuMF2"
      },
      "outputs": [],
      "source": [
        "# Create a KerasClassifier wrapper for GridSearchCV\n",
        "lstm_classifier = KerasClassifier(build_fn=create_lstm_model, epochs=5, batch_size=32, verbose=0)\n",
        "\n",
        "\n"
      ]
    },
    {
      "cell_type": "code",
      "execution_count": null,
      "metadata": {
        "id": "qOx0kMRXuH7M"
      },
      "outputs": [],
      "source": [
        "\n",
        "# Define hyperparameter grid\n",
        "param_grid = {\n",
        "    'units': [32, 64]\n",
        "    'dropout_rate': [0.3, 0.5],\n",
        "}"
      ]
    },
    {
      "cell_type": "code",
      "execution_count": null,
      "metadata": {
        "id": "5lpxUAjWruUL"
      },
      "outputs": [],
      "source": [
        "\n",
        "# Create GridSearchCV instance\n",
        "grid_search = GridSearchCV(estimator=lstm_classifier, param_grid=param_grid, cv=3, verbose=1)\n"
      ]
    },
    {
      "cell_type": "code",
      "source": [
        "\n",
        "# Perform grid search\n",
        "grid_search.fit(X_train_combined, y_train_encoded)"
      ],
      "metadata": {
        "id": "wQ9fJhZC4Ote"
      },
      "execution_count": null,
      "outputs": []
    },
    {
      "cell_type": "code",
      "source": [
        "\n",
        "# Perform grid search\n",
        "grid_search.fit(X_train_combined, y_train_encoded)"
      ],
      "metadata": {
        "id": "1P1iJhzU4RfE"
      },
      "execution_count": null,
      "outputs": []
    },
    {
      "cell_type": "code",
      "execution_count": null,
      "metadata": {
        "id": "835_V9birdKH"
      },
      "outputs": [],
      "source": [
        "\n",
        "\n",
        "# Print best parameters and best score\n",
        "print(\"Best Parameters: \", grid_search.best_params_)\n",
        "print(\"Best Model Score: \", grid_search.best_score_)\n",
        "\n",
        "# Get the best model\n",
        "best_lstm_model = grid_search.best_estimator_.model\n",
        "\n",
        "# Evaluate the best model on the test set\n",
        "loss, accuracy = best_lstm_model.evaluate(X_test, y_test)\n",
        "print(f'Test Loss: {loss}, Test Accuracy: {accuracy}')\n"
      ]
    },
    {
      "cell_type": "code",
      "source": [],
      "metadata": {
        "id": "mGEJVsrq4U3Q"
      },
      "execution_count": null,
      "outputs": []
    },
    {
      "cell_type": "markdown",
      "metadata": {
        "id": "H8ixV85rnl6K"
      },
      "source": [
        "GRU"
      ]
    },
    {
      "cell_type": "code",
      "execution_count": null,
      "metadata": {
        "id": "yfZHZFntnoOe",
        "colab": {
          "base_uri": "https://localhost:8080/"
        },
        "outputId": "e2be9180-7a0a-4133-8cd2-a3778aeaa089"
      },
      "outputs": [
        {
          "output_type": "stream",
          "name": "stdout",
          "text": [
            "Epoch 1/5\n",
            "32/32 [==============================] - 9s 123ms/step - loss: 0.6903 - accuracy: 0.5547 - val_loss: 0.6824 - val_accuracy: 0.6094\n",
            "Epoch 2/5\n",
            "32/32 [==============================] - 3s 102ms/step - loss: 0.5434 - accuracy: 0.7441 - val_loss: 0.7235 - val_accuracy: 0.6641\n",
            "Epoch 3/5\n",
            "32/32 [==============================] - 4s 117ms/step - loss: 0.2784 - accuracy: 0.8857 - val_loss: 0.8134 - val_accuracy: 0.6797\n",
            "Epoch 4/5\n",
            "32/32 [==============================] - 5s 144ms/step - loss: 0.1200 - accuracy: 0.9619 - val_loss: 0.9479 - val_accuracy: 0.6562\n",
            "Epoch 5/5\n",
            "32/32 [==============================] - 4s 109ms/step - loss: 0.0686 - accuracy: 0.9805 - val_loss: 1.1550 - val_accuracy: 0.6523\n",
            "10/10 [==============================] - 0s 29ms/step - loss: 1.2071 - accuracy: 0.6438\n",
            "Test Loss (GRU): 1.2070741653442383, Test Accuracy (GRU): 0.643750011920929\n"
          ]
        }
      ],
      "source": [
        "import numpy as np\n",
        "import pandas as pd\n",
        "from sklearn.model_selection import train_test_split\n",
        "from keras.models import Sequential\n",
        "from keras.layers import Embedding, GRU, Dense\n",
        "from keras.preprocessing.text import Tokenizer\n",
        "from keras.preprocessing.sequence import pad_sequences\n",
        "\n",
        "# Define the RNN model with GRU layers\n",
        "model_gru = Sequential()\n",
        "model_gru.add(Embedding(input_dim=max_words, output_dim=50, input_length=max_len))\n",
        "model_gru.add(GRU(64, return_sequences=True))\n",
        "model_gru.add(GRU(64))\n",
        "model_gru.add(Dense(1, activation='sigmoid'))\n",
        "\n",
        "# Compile the GRU model\n",
        "model_gru.compile(optimizer='adam', loss='binary_crossentropy', metrics=['accuracy'])\n",
        "\n",
        "# Train the GRU model\n",
        "history_gru = model_gru.fit(X_train_padded, y_train_encoded, epochs=5, batch_size=32, validation_split=0.2)\n",
        "\n",
        "# Evaluate the GRU model on the test set\n",
        "loss_gru, accuracy_gru = model_gru.evaluate(X_test_padded, y_test_encoded)\n",
        "print(f'Test Loss (GRU): {loss_gru}, Test Accuracy (GRU): {accuracy_gru}')\n"
      ]
    },
    {
      "cell_type": "code",
      "execution_count": null,
      "metadata": {
        "id": "qyQvCfSFnoWc",
        "colab": {
          "base_uri": "https://localhost:8080/",
          "height": 607
        },
        "outputId": "7a4a9541-3707-4f75-dda3-86e823aacbdd"
      },
      "outputs": [
        {
          "output_type": "display_data",
          "data": {
            "text/plain": [
              "<Figure size 1200x600 with 2 Axes>"
            ],
            "image/png": "[encoded data removed]"
          },
          "metadata": {}
        }
      ],
      "source": [
        "plt.figure(figsize=(12, 6))\n",
        "\n",
        "# Plot training & validation accuracy values\n",
        "plt.subplot(1, 2, 1)\n",
        "plt.plot(history_gru.history['accuracy'])\n",
        "plt.plot(history_gru.history['val_accuracy'])\n",
        "plt.title('Model Accuracy')\n",
        "plt.xlabel('Epoch')\n",
        "plt.ylabel('Accuracy')\n",
        "plt.legend(['Train', 'Validation'], loc='upper left')\n",
        "\n",
        "# Plot training & validation loss values\n",
        "plt.subplot(1, 2, 2)\n",
        "plt.plot(history_gru.history['loss'])\n",
        "plt.plot(history_gru.history['val_loss'])\n",
        "plt.title('Model Loss')\n",
        "plt.xlabel('Epoch')\n",
        "plt.ylabel('Loss')\n",
        "plt.legend(['Train', 'Validation'], loc='upper left')\n",
        "\n",
        "plt.tight_layout()\n",
        "plt.show()"
      ]
    },
    {
      "cell_type": "markdown",
      "metadata": {
        "id": "3SLaTnf_noqU"
      },
      "source": [
        "ADABOOST"
      ]
    },
    {
      "cell_type": "code",
      "source": [
        "from sklearn.linear_model import LogisticRegression\n",
        "from sklearn.feature_extraction.text import TfidfVectorizer\n",
        "from sklearn.preprocessing import OneHotEncoder\n",
        "from sklearn.metrics import accuracy_score, confusion_matrix, recall_score, precision_score, f1_score\n",
        "from sklearn.model_selection import train_test_split\n",
        "# Split the data into training and test sets\n",
        "X_train, X_test, y_train, y_test = train_test_split(x, y, test_size=0.2, random_state=42)\n",
        "\n",
        "count_vectorizer = TfidfVectorizer()\n",
        "\n",
        "# Transform the text data into one-hot encoded features\n",
        "X_train_Tfidf = count_vectorizer.fit_transform(X_train)\n",
        "X_test_Tfidf = count_vectorizer.transform(X_test)"
      ],
      "metadata": {
        "id": "xYC6Jqda6bmq"
      },
      "execution_count": 36,
      "outputs": []
    },
    {
      "cell_type": "code",
      "source": [
        "from sklearn.ensemble import AdaBoostClassifier\n",
        "from sklearn.tree import DecisionTreeClassifier\n",
        "from sklearn.metrics import accuracy_score\n",
        "\n",
        "# Assuming X_train_padded, X_test_padded, y_train_encoded, y_test_encoded are available\n",
        "\n",
        "# Create a base learner (Decision Tree Classifier)\n",
        "base_classifier = DecisionTreeClassifier(max_depth=1)\n",
        "\n",
        "# Create Adaboost classifier with the base learner\n",
        "adaboost_classifier = AdaBoostClassifier(base_classifier, n_estimators=50, learning_rate=1.0, random_state=42)\n",
        "\n",
        "# Train the Adaboost classifier\n",
        "adaboost_classifier.fit(X_train_Tfidf, y_train_encoded)\n",
        "\n",
        "# Predict using the Adaboost classifier\n",
        "adaboost_predictions = adaboost_classifier.predict(X_test_Tfidf)\n",
        "\n",
        "# Evaluate the Adaboost classifier\n",
        "accuracy_adaboost = accuracy_score(y_test_encoded, adaboost_predictions)\n",
        "print(f'Adaboost Accuracy: {accuracy_adaboost}')\n"
      ],
      "metadata": {
        "colab": {
          "base_uri": "https://localhost:8080/"
        },
        "id": "9nNWb4RO7s3e",
        "outputId": "3f6f9eb2-6abd-4769-f930-9f57da0d8e77"
      },
      "execution_count": 37,
      "outputs": [
        {
          "output_type": "stream",
          "name": "stderr",
          "text": [
            "/usr/local/lib/python3.10/dist-packages/sklearn/utils/validation.py:1143: DataConversionWarning: A column-vector y was passed when a 1d array was expected. Please change the shape of y to (n_samples, ), for example using ravel().\n",
            "  y = column_or_1d(y, warn=True)\n"
          ]
        },
        {
          "output_type": "stream",
          "name": "stdout",
          "text": [
            "Adaboost Accuracy: 0.790625\n"
          ]
        }
      ]
    },
    {
      "cell_type": "code",
      "source": [
        "import seaborn as sns\n",
        "import matplotlib.pyplot as plt\n",
        "from sklearn.metrics import confusion_matrix\n",
        "\n",
        "# Assuming y_test_encoded and adaboost_predictions are available\n",
        "\n",
        "# Create a confusion matrix\n",
        "cm = confusion_matrix(y_test_encoded, adaboost_predictions)\n",
        "\n",
        "# Plot the confusion matrix using seaborn\n",
        "plt.figure(figsize=(8, 6))\n",
        "sns.heatmap(cm, annot=True, fmt='d', cmap='Blues', annot_kws={\"size\": 16})\n",
        "plt.title('Confusion Matrix - Adaboost Classifier')\n",
        "plt.xlabel('Predicted Label')\n",
        "plt.ylabel('True Label')\n",
        "plt.show()\n"
      ],
      "metadata": {
        "colab": {
          "base_uri": "https://localhost:8080/",
          "height": 564
        },
        "id": "Ga_wtOGO6PU3",
        "outputId": "e20d3250-7518-4a8a-b5d6-8c9063d93323"
      },
      "execution_count": 38,
      "outputs": [
        {
          "output_type": "display_data",
          "data": {
            "text/plain": [
              "<Figure size 800x600 with 2 Axes>"
            ],
            "image/png": "[encoded data removed]"
          },
          "metadata": {}
        }
      ]
    },
    {
      "cell_type": "code",
      "source": [
        "from sklearn.metrics import accuracy_score, precision_score, recall_score, confusion_matrix\n",
        "\n",
        "# Assuming X_test, y_test, and adaboost_classifier are available\n",
        "\n",
        "# Make predictions\n",
        "predictions = adaboost_classifier.predict(X_test_Tfidf)\n",
        "\n",
        "# Evaluate accuracy\n",
        "accuracy = accuracy_score(y_test_encoded, predictions)\n",
        "print(f'AdaBoost Accuracy: {accuracy}')\n",
        "\n",
        "# Calculate precision and recall\n",
        "precision = precision_score(y_test_encoded, predictions)\n",
        "recall = recall_score(y_test_encoded, predictions)\n",
        "\n",
        "print(f'Precision: {precision}')\n",
        "print(f'Recall: {recall}')\n",
        "\n",
        "\n"
      ],
      "metadata": {
        "colab": {
          "base_uri": "https://localhost:8080/"
        },
        "id": "CIsVNM1q589V",
        "outputId": "a444db46-78c6-47ce-8ff9-8cdc371a78d0"
      },
      "execution_count": 42,
      "outputs": [
        {
          "output_type": "stream",
          "name": "stdout",
          "text": [
            "AdaBoost Accuracy: 0.790625\n",
            "Precision: 0.8258064516129032\n",
            "Recall: 0.7619047619047619\n"
          ]
        }
      ]
    }
  ],
  "metadata": {
    "colab": {
      "provenance": []
    },
    "kernelspec": {
      "display_name": "Python 3",
      "name": "python3"
    },
    "language_info": {
      "name": "python"
    }
  },
  "nbformat": 4,
  "nbformat_minor": 0
}